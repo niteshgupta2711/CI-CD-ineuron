{
 "cells": [
  {
   "cell_type": "code",
   "execution_count": 11,
   "metadata": {},
   "outputs": [],
   "source": [
    "from setuptools import setup,PackageFinder\n",
    "class try1:\n",
    "    def __init__(self,message) -> None:\n",
    "        self.error=message\n",
    "\n",
    "    def __str__(self):\n",
    "        return str(self.error)\n",
    "    def __repr__(self) -> str:\n",
    "        return f'try1({self.error})'"
   ]
  },
  {
   "cell_type": "code",
   "execution_count": 15,
   "metadata": {},
   "outputs": [
    {
     "data": {
      "text/plain": [
       "try1(help)"
      ]
     },
     "execution_count": 15,
     "metadata": {},
     "output_type": "execute_result"
    }
   ],
   "source": [
    "try1('help')"
   ]
  },
  {
   "cell_type": "code",
   "execution_count": 16,
   "metadata": {},
   "outputs": [
    {
     "name": "stdout",
     "output_type": "stream",
     "text": [
      "help\n"
     ]
    }
   ],
   "source": [
    "print(tr)"
   ]
  },
  {
   "cell_type": "code",
   "execution_count": 17,
   "metadata": {},
   "outputs": [
    {
     "data": {
      "text/plain": [
       "'help'"
      ]
     },
     "execution_count": 17,
     "metadata": {},
     "output_type": "execute_result"
    }
   ],
   "source": [
    "eval('tr.__str__()')"
   ]
  },
  {
   "cell_type": "code",
   "execution_count": 19,
   "metadata": {},
   "outputs": [
    {
     "data": {
      "text/plain": [
       "<bound method try1.__repr__ of try1(help)>"
      ]
     },
     "execution_count": 19,
     "metadata": {},
     "output_type": "execute_result"
    }
   ],
   "source": [
    "#remember how you instantitate sklearn classes and get some string after console that is what repr does\n",
    "tr.__repr__"
   ]
  },
  {
   "cell_type": "code",
   "execution_count": 6,
   "metadata": {},
   "outputs": [],
   "source": [
    "with open('../requirements.txt') as f1:\n",
    "    l=[line.replace('\\n','') for line in f1.readlines()]\n",
    "    if '-e .' in l:\n",
    "        l.remove('-e .')\n",
    "return l"
   ]
  },
  {
   "cell_type": "code",
   "execution_count": 1,
   "metadata": {},
   "outputs": [],
   "source": [
    "from datetime import datetime"
   ]
  },
  {
   "cell_type": "code",
   "execution_count": 8,
   "metadata": {},
   "outputs": [
    {
     "ename": "ValueError",
     "evalue": "Invalid format string",
     "output_type": "error",
     "traceback": [
      "\u001b[1;31m---------------------------------------------------------------------------\u001b[0m",
      "\u001b[1;31mValueError\u001b[0m                                Traceback (most recent call last)",
      "\u001b[1;32md:\\CI-CD\\notebooks\\prototyping.ipynb Cell 8\u001b[0m in \u001b[0;36m<cell line: 1>\u001b[1;34m()\u001b[0m\n\u001b[1;32m----> <a href='vscode-notebook-cell:/d%3A/CI-CD/notebooks/prototyping.ipynb#ch0000007?line=0'>1</a>\u001b[0m datetime\u001b[39m.\u001b[39;49mnow()\u001b[39m.\u001b[39;49mstrftime(\u001b[39m'\u001b[39;49m\u001b[39mhh\u001b[39;49m\u001b[39m%\u001b[39;49m\u001b[39m'\u001b[39;49m)\n",
      "\u001b[1;31mValueError\u001b[0m: Invalid format string"
     ]
    }
   ],
   "source": [
    "datetime.now().strftime('hh%')"
   ]
  },
  {
   "cell_type": "code",
   "execution_count": 16,
   "metadata": {},
   "outputs": [],
   "source": [
    "class HousingException(Exception):\n",
    "    \n",
    "    def __init__(self, error_message:Exception,error_detail:sys):\n",
    "        super().__init__(error_message)\n",
    "        self.error_message=HousingException.get_detailed_error_message(error_message=error_message,\n",
    "                                                                       error_detail=error_detail\n",
    "                                                                        )\n",
    "\n",
    "\n",
    "    @staticmethod\n",
    "    def get_detailed_error_message(error_message:Exception,error_detail:sys)->str:\n",
    "        \"\"\"\n",
    "        error_message: Exception object\n",
    "        error_detail: object of sys module\n",
    "        \"\"\"\n",
    "        _,_ ,exec_tb = error_detail.exc_info()\n",
    "        exception_block_line_number = exec_tb.tb_frame.f_lineno\n",
    "        try_block_line_number = exec_tb.tb_lineno\n",
    "        file_name = exec_tb.tb_frame.f_code.co_filename\n",
    "        error_message = f\"\"\"\n",
    "        Error occured in script: \n",
    "        [ {file_name} ] at \n",
    "        try block line number: [{try_block_line_number}] and exception block line number: [{exception_block_line_number}] \n",
    "        error message: [{error_message}]\n",
    "        \"\"\"\n",
    "        return error_message\n",
    "\n",
    "    def __str__(self):\n",
    "        return self.error_message\n",
    "\n",
    "\n",
    "    def __repr__(self) -> str:\n",
    "        return HousingException.__name__.str()"
   ]
  },
  {
   "cell_type": "code",
   "execution_count": 17,
   "metadata": {},
   "outputs": [
    {
     "ename": "HousingException",
     "evalue": "\n        Error occured in script: \n        [ C:\\Users\\Nitesh\\AppData\\Local\\Temp\\ipykernel_2188\\287232594.py ] at \n        try block line number: [6] and exception block line number: [8] \n        error message: [division by zero]\n        ",
     "output_type": "error",
     "traceback": [
      "\u001b[1;31m---------------------------------------------------------------------------\u001b[0m",
      "\u001b[1;31mZeroDivisionError\u001b[0m                         Traceback (most recent call last)",
      "\u001b[1;32md:\\CI-CD\\notebooks\\prototyping.ipynb Cell 10\u001b[0m in \u001b[0;36m<cell line: 5>\u001b[1;34m()\u001b[0m\n\u001b[0;32m      <a href='vscode-notebook-cell:/d%3A/CI-CD/notebooks/prototyping.ipynb#ch0000009?line=4'>5</a>\u001b[0m \u001b[39mtry\u001b[39;00m:\n\u001b[1;32m----> <a href='vscode-notebook-cell:/d%3A/CI-CD/notebooks/prototyping.ipynb#ch0000009?line=5'>6</a>\u001b[0m     \u001b[39m2\u001b[39;49m\u001b[39m/\u001b[39;49m\u001b[39m0\u001b[39;49m\n\u001b[0;32m      <a href='vscode-notebook-cell:/d%3A/CI-CD/notebooks/prototyping.ipynb#ch0000009?line=6'>7</a>\u001b[0m \u001b[39mexcept\u001b[39;00m \u001b[39mException\u001b[39;00m \u001b[39mas\u001b[39;00m e:\n",
      "\u001b[1;31mZeroDivisionError\u001b[0m: division by zero",
      "\nThe above exception was the direct cause of the following exception:\n",
      "\u001b[1;31mHousingException\u001b[0m                          Traceback (most recent call last)",
      "\u001b[1;32md:\\CI-CD\\notebooks\\prototyping.ipynb Cell 10\u001b[0m in \u001b[0;36m<cell line: 5>\u001b[1;34m()\u001b[0m\n\u001b[0;32m      <a href='vscode-notebook-cell:/d%3A/CI-CD/notebooks/prototyping.ipynb#ch0000009?line=5'>6</a>\u001b[0m     \u001b[39m2\u001b[39m\u001b[39m/\u001b[39m\u001b[39m0\u001b[39m\n\u001b[0;32m      <a href='vscode-notebook-cell:/d%3A/CI-CD/notebooks/prototyping.ipynb#ch0000009?line=6'>7</a>\u001b[0m \u001b[39mexcept\u001b[39;00m \u001b[39mException\u001b[39;00m \u001b[39mas\u001b[39;00m e:\n\u001b[1;32m----> <a href='vscode-notebook-cell:/d%3A/CI-CD/notebooks/prototyping.ipynb#ch0000009?line=7'>8</a>\u001b[0m     \u001b[39mraise\u001b[39;00m HousingException(e,sys) \u001b[39mfrom\u001b[39;00m \u001b[39me\u001b[39;00m\n",
      "\u001b[1;31mHousingException\u001b[0m: \n        Error occured in script: \n        [ C:\\Users\\Nitesh\\AppData\\Local\\Temp\\ipykernel_2188\\287232594.py ] at \n        try block line number: [6] and exception block line number: [8] \n        error message: [division by zero]\n        "
     ]
    }
   ],
   "source": [
    "import sys\n",
    "\n",
    "\n",
    "\n",
    "try:\n",
    "    2/0\n",
    "except Exception as e:\n",
    "    raise HousingException(e,sys) from e"
   ]
  },
  {
   "cell_type": "code",
   "execution_count": 1,
   "metadata": {},
   "outputs": [],
   "source": [
    "from collections import namedtuple"
   ]
  },
  {
   "cell_type": "code",
   "execution_count": 2,
   "metadata": {},
   "outputs": [],
   "source": [
    "DataIngestionConfig=namedtuple(\"dataIngestionConfig\",['data_url','zip_dir','unzipped_raw'])"
   ]
  },
  {
   "cell_type": "code",
   "execution_count": null,
   "metadata": {},
   "outputs": [],
   "source": [
    "DataIngestionConfig('https','/data/data.tgz','/data/raw/raw')"
   ]
  }
 ],
 "metadata": {
  "kernelspec": {
   "display_name": "Python 3.9.12 (conda)",
   "language": "python",
   "name": "python3"
  },
  "language_info": {
   "codemirror_mode": {
    "name": "ipython",
    "version": 3
   },
   "file_extension": ".py",
   "mimetype": "text/x-python",
   "name": "python",
   "nbconvert_exporter": "python",
   "pygments_lexer": "ipython3",
   "version": "3.9.12"
  },
  "orig_nbformat": 4,
  "vscode": {
   "interpreter": {
    "hash": "273e65ba59b0e4ca32e676bfa4b539170669bfaf1ef47e23d9b3928c5a3d0f75"
   }
  }
 },
 "nbformat": 4,
 "nbformat_minor": 2
}
