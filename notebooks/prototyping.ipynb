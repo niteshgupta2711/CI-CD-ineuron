{
 "cells": [
  {
   "cell_type": "code",
   "execution_count": 11,
   "metadata": {},
   "outputs": [],
   "source": [
    "from setuptools import setup,PackageFinder\n",
    "class try1:\n",
    "    def __init__(self,message) -> None:\n",
    "        self.error=message\n",
    "\n",
    "    def __str__(self):\n",
    "        return str(self.error)\n",
    "    def __repr__(self) -> str:\n",
    "        return f'try1({self.error})'"
   ]
  },
  {
   "cell_type": "code",
   "execution_count": 15,
   "metadata": {},
   "outputs": [
    {
     "data": {
      "text/plain": [
       "try1(help)"
      ]
     },
     "execution_count": 15,
     "metadata": {},
     "output_type": "execute_result"
    }
   ],
   "source": [
    "try1('help')"
   ]
  },
  {
   "cell_type": "code",
   "execution_count": 16,
   "metadata": {},
   "outputs": [
    {
     "name": "stdout",
     "output_type": "stream",
     "text": [
      "help\n"
     ]
    }
   ],
   "source": [
    "print(tr)"
   ]
  },
  {
   "cell_type": "code",
   "execution_count": 17,
   "metadata": {},
   "outputs": [
    {
     "data": {
      "text/plain": [
       "'help'"
      ]
     },
     "execution_count": 17,
     "metadata": {},
     "output_type": "execute_result"
    }
   ],
   "source": [
    "eval('tr.__str__()')"
   ]
  },
  {
   "cell_type": "code",
   "execution_count": 19,
   "metadata": {},
   "outputs": [
    {
     "data": {
      "text/plain": [
       "<bound method try1.__repr__ of try1(help)>"
      ]
     },
     "execution_count": 19,
     "metadata": {},
     "output_type": "execute_result"
    }
   ],
   "source": [
    "#remember how you instantitate sklearn classes and get some string after console that is what repr does\n",
    "tr.__repr__"
   ]
  },
  {
   "cell_type": "code",
   "execution_count": 6,
   "metadata": {},
   "outputs": [],
   "source": [
    "with open('../requirements.txt') as f1:\n",
    "    l=[line.replace('\\n','') for line in f1.readlines()]\n",
    "    if '-e .' in l:\n",
    "        l.remove('-e .')\n",
    "return l"
   ]
  },
  {
   "cell_type": "code",
   "execution_count": 7,
   "metadata": {},
   "outputs": [
    {
     "data": {
      "text/plain": [
       "['aiohttp==3.8.1',\n",
       " 'aiohttp-retry==2.5.2',\n",
       " 'aiosignal==1.2.0',\n",
       " 'altair==4.2.0',\n",
       " 'appdirs==1.4.4',\n",
       " 'argon2-cffi==21.3.0',\n",
       " 'argon2-cffi-bindings==21.2.0',\n",
       " 'asttokens==2.0.5',\n",
       " 'async-timeout==4.0.2',\n",
       " 'asyncssh==2.11.0',\n",
       " 'atpublic==3.0.1',\n",
       " 'attrs==21.4.0',\n",
       " 'backcall==0.2.0',\n",
       " 'beautifulsoup4==4.11.1',\n",
       " 'bleach==5.0.1',\n",
       " 'blinker==1.5',\n",
       " 'cachetools==5.2.0',\n",
       " 'certifi @ file:///C:/Windows/TEMP/abs_e9b7158a-aa56-4a5b-87b6-c00d295b01fanefpc8_o/croots/recipe/certifi_1655968940823/work/certifi',\n",
       " 'cffi==1.15.1',\n",
       " 'charset-normalizer==2.1.0',\n",
       " 'click==8.1.3',\n",
       " 'colorama==0.4.5',\n",
       " 'commonmark==0.9.1',\n",
       " 'configobj==5.0.6',\n",
       " 'cryptography==37.0.4',\n",
       " 'debugpy==1.6.2',\n",
       " 'decorator==5.1.1',\n",
       " 'defusedxml==0.7.1',\n",
       " 'dictdiffer==0.9.0',\n",
       " 'diskcache==5.4.0',\n",
       " 'distro==1.7.0',\n",
       " 'dpath==2.0.6',\n",
       " 'dulwich==0.20.45',\n",
       " 'dvc==2.13.0',\n",
       " 'dvc-data==0.0.23',\n",
       " 'dvc-objects==0.0.23',\n",
       " 'dvc-render==0.0.6',\n",
       " 'dvclive==0.9.0',\n",
       " 'entrypoints==0.4',\n",
       " 'executing==0.8.3',\n",
       " 'fastjsonschema==2.16.1',\n",
       " 'Flask==2.1.3',\n",
       " 'flatten-dict==0.4.2',\n",
       " 'flufl.lock==7.0',\n",
       " 'frozenlist==1.3.0',\n",
       " 'fsspec==2022.5.0',\n",
       " 'ftfy==6.1.1',\n",
       " 'funcy==1.17',\n",
       " 'future==0.18.2',\n",
       " 'gitdb==4.0.9',\n",
       " 'GitPython==3.1.27',\n",
       " 'grandalf==0.6',\n",
       " 'gunicorn==20.1.0',\n",
       " 'htmlmin==0.1.12',\n",
       " 'idna==3.3',\n",
       " 'ImageHash==4.2.1',\n",
       " 'importlib-metadata==4.12.0',\n",
       " 'ipykernel==6.15.1',\n",
       " 'ipython==8.4.0',\n",
       " 'ipython-genutils==0.2.0',\n",
       " 'ipywidgets==7.7.1',\n",
       " 'itsdangerous==2.1.2',\n",
       " 'jedi==0.18.1',\n",
       " 'Jinja2==3.1.2',\n",
       " 'joblib==1.0.1',\n",
       " 'jsonschema==4.7.2',\n",
       " 'jupyter-client==7.3.4',\n",
       " 'jupyter-core==4.11.1',\n",
       " 'jupyterlab-pygments==0.2.2',\n",
       " 'jupyterlab-widgets==1.1.1',\n",
       " 'mailchecker==4.1.17',\n",
       " 'MarkupSafe==2.1.1',\n",
       " 'matplotlib-inline==0.1.3',\n",
       " 'missingno==0.5.1',\n",
       " 'mistune==0.8.4',\n",
       " 'multidict==6.0.2',\n",
       " 'nanotime==0.5.2',\n",
       " 'nbclient==0.6.6',\n",
       " 'nbconvert==6.5.0',\n",
       " 'nbformat==5.4.0',\n",
       " 'nest-asyncio==1.5.5',\n",
       " 'networkx==2.8.5',\n",
       " 'notebook==6.4.12',\n",
       " 'numpy==1.23.1',\n",
       " 'packaging==21.3',\n",
       " 'pandas==1.4.3',\n",
       " 'pandas-profiling==3.1.0',\n",
       " 'pandocfilters==1.5.0',\n",
       " 'parso==0.8.3',\n",
       " 'pathspec==0.9.0',\n",
       " 'phik==0.12.0',\n",
       " 'phonenumbers==8.12.51',\n",
       " 'pickleshare==0.7.5',\n",
       " 'Pillow==9.2.0',\n",
       " 'prometheus-client==0.14.1',\n",
       " 'prompt-toolkit==3.0.30',\n",
       " 'protobuf==3.20.1',\n",
       " 'psutil==5.9.1',\n",
       " 'pure-eval==0.2.2',\n",
       " 'pyarrow==8.0.0',\n",
       " 'pycparser==2.21',\n",
       " 'pydantic==1.9.0',\n",
       " 'pydeck==0.7.1',\n",
       " 'pydot==1.4.2',\n",
       " 'pygit2==1.9.2',\n",
       " 'Pygments==2.12.0',\n",
       " 'pygtrie==2.5.0',\n",
       " 'Pympler==1.0.1',\n",
       " 'pyparsing==3.0.9',\n",
       " 'pyrsistent==0.18.1',\n",
       " 'python-benedict==0.25.2',\n",
       " 'python-dateutil==2.8.2',\n",
       " 'python-fsutil==0.6.1',\n",
       " 'python-slugify==6.1.2',\n",
       " 'pytz==2022.1',\n",
       " 'pytz-deprecation-shim==0.1.0.post0',\n",
       " 'pywin32==304',\n",
       " 'pywinpty==2.0.6',\n",
       " 'PyYAML==6.0',\n",
       " 'pyzmq==23.2.0',\n",
       " 'requests==2.28.1',\n",
       " 'rich==12.5.1',\n",
       " 'ruamel.yaml==0.17.21',\n",
       " 'ruamel.yaml.clib==0.2.6',\n",
       " 'scmrepo==0.0.25',\n",
       " 'semver==2.13.0',\n",
       " 'Send2Trash==1.8.0',\n",
       " 'shortuuid==1.0.9',\n",
       " 'shtab==1.5.5',\n",
       " 'six==1.16.0',\n",
       " 'smmap==5.0.0',\n",
       " 'soupsieve==2.3.2.post1',\n",
       " 'stack-data==0.3.0',\n",
       " 'tabulate==0.8.10',\n",
       " 'terminado==0.15.0',\n",
       " 'text-unidecode==1.3',\n",
       " 'tinycss2==1.1.1',\n",
       " 'toml==0.10.2',\n",
       " 'toolz==0.12.0',\n",
       " 'tornado==6.2',\n",
       " 'tqdm==4.64.0',\n",
       " 'traitlets==5.3.0',\n",
       " 'typing_extensions==4.3.0',\n",
       " 'tzdata==2022.1',\n",
       " 'tzlocal==4.2',\n",
       " 'urllib3==1.26.10',\n",
       " 'validators==0.20.0',\n",
       " 'voluptuous==0.13.1',\n",
       " 'watchdog==2.1.9',\n",
       " 'wcwidth==0.2.5',\n",
       " 'webencodings==0.5.1',\n",
       " 'Werkzeug==2.1.2',\n",
       " 'widgetsnbextension==3.6.1',\n",
       " 'wincertstore==0.2',\n",
       " 'xmltodict==0.13.0',\n",
       " 'yarl==1.7.2',\n",
       " 'zc.lockfile==2.0',\n",
       " 'zipp==3.8.1']"
      ]
     },
     "execution_count": 7,
     "metadata": {},
     "output_type": "execute_result"
    }
   ],
   "source": [
    "l"
   ]
  },
  {
   "cell_type": "code",
   "execution_count": null,
   "metadata": {},
   "outputs": [],
   "source": []
  }
 ],
 "metadata": {
  "kernelspec": {
   "display_name": "Python 3.9.12 (conda)",
   "language": "python",
   "name": "python3"
  },
  "language_info": {
   "codemirror_mode": {
    "name": "ipython",
    "version": 3
   },
   "file_extension": ".py",
   "mimetype": "text/x-python",
   "name": "python",
   "nbconvert_exporter": "python",
   "pygments_lexer": "ipython3",
   "version": "3.9.12"
  },
  "orig_nbformat": 4,
  "vscode": {
   "interpreter": {
    "hash": "273e65ba59b0e4ca32e676bfa4b539170669bfaf1ef47e23d9b3928c5a3d0f75"
   }
  }
 },
 "nbformat": 4,
 "nbformat_minor": 2
}
